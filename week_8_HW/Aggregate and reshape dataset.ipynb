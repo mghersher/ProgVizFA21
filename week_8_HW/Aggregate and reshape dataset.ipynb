{
 "cells": [
  {
   "cell_type": "code",
   "execution_count": 1,
   "metadata": {},
   "outputs": [],
   "source": [
    "import pandas as pd"
   ]
  },
  {
   "cell_type": "code",
   "execution_count": 18,
   "metadata": {},
   "outputs": [],
   "source": [
    "df = pd.read_csv('data/raw_data/WFIGS_-_Wildland_Fire_Locations_Full_History.csv', parse_dates = ['FireDiscoveryDateTime'])"
   ]
  },
  {
   "cell_type": "code",
   "execution_count": 19,
   "metadata": {},
   "outputs": [],
   "source": [
    "#Extract month\n",
    "df['FireDiscoveryMonth'] = df['FireDiscoveryDateTime'].dt.month"
   ]
  },
  {
   "cell_type": "code",
   "execution_count": 20,
   "metadata": {},
   "outputs": [
    {
     "data": {
      "text/html": [
       "<div>\n",
       "<style scoped>\n",
       "    .dataframe tbody tr th:only-of-type {\n",
       "        vertical-align: middle;\n",
       "    }\n",
       "\n",
       "    .dataframe tbody tr th {\n",
       "        vertical-align: top;\n",
       "    }\n",
       "\n",
       "    .dataframe thead th {\n",
       "        text-align: right;\n",
       "    }\n",
       "</style>\n",
       "<table border=\"1\" class=\"dataframe\">\n",
       "  <thead>\n",
       "    <tr style=\"text-align: right;\">\n",
       "      <th></th>\n",
       "      <th>FireDiscoveryDateTime</th>\n",
       "      <th>FireDiscoveryMonth</th>\n",
       "      <th>GACC</th>\n",
       "    </tr>\n",
       "  </thead>\n",
       "  <tbody>\n",
       "    <tr>\n",
       "      <th>0</th>\n",
       "      <td>2020-08-06 18:58:00+00:00</td>\n",
       "      <td>8</td>\n",
       "      <td>NRCC</td>\n",
       "    </tr>\n",
       "    <tr>\n",
       "      <th>1</th>\n",
       "      <td>2020-02-28 20:45:40+00:00</td>\n",
       "      <td>2</td>\n",
       "      <td>OSCC</td>\n",
       "    </tr>\n",
       "    <tr>\n",
       "      <th>2</th>\n",
       "      <td>2017-10-17 20:20:24+00:00</td>\n",
       "      <td>10</td>\n",
       "      <td>NRCC</td>\n",
       "    </tr>\n",
       "    <tr>\n",
       "      <th>3</th>\n",
       "      <td>2019-07-01 19:54:00+00:00</td>\n",
       "      <td>7</td>\n",
       "      <td>OSCC</td>\n",
       "    </tr>\n",
       "    <tr>\n",
       "      <th>4</th>\n",
       "      <td>2016-06-20 22:05:59+00:00</td>\n",
       "      <td>6</td>\n",
       "      <td>ONCC</td>\n",
       "    </tr>\n",
       "    <tr>\n",
       "      <th>...</th>\n",
       "      <td>...</td>\n",
       "      <td>...</td>\n",
       "      <td>...</td>\n",
       "    </tr>\n",
       "    <tr>\n",
       "      <th>154587</th>\n",
       "      <td>2020-03-26 21:59:59+00:00</td>\n",
       "      <td>3</td>\n",
       "      <td>ONCC</td>\n",
       "    </tr>\n",
       "    <tr>\n",
       "      <th>154588</th>\n",
       "      <td>2020-11-13 20:43:26+00:00</td>\n",
       "      <td>11</td>\n",
       "      <td>RMCC</td>\n",
       "    </tr>\n",
       "    <tr>\n",
       "      <th>154589</th>\n",
       "      <td>2020-07-02 21:07:46+00:00</td>\n",
       "      <td>7</td>\n",
       "      <td>SWCC</td>\n",
       "    </tr>\n",
       "    <tr>\n",
       "      <th>154590</th>\n",
       "      <td>2020-07-04 04:44:59+00:00</td>\n",
       "      <td>7</td>\n",
       "      <td>NRCC</td>\n",
       "    </tr>\n",
       "    <tr>\n",
       "      <th>154591</th>\n",
       "      <td>2020-11-18 17:46:41+00:00</td>\n",
       "      <td>11</td>\n",
       "      <td>AICC</td>\n",
       "    </tr>\n",
       "  </tbody>\n",
       "</table>\n",
       "<p>154592 rows × 3 columns</p>\n",
       "</div>"
      ],
      "text/plain": [
       "           FireDiscoveryDateTime  FireDiscoveryMonth  GACC\n",
       "0      2020-08-06 18:58:00+00:00                   8  NRCC\n",
       "1      2020-02-28 20:45:40+00:00                   2  OSCC\n",
       "2      2017-10-17 20:20:24+00:00                  10  NRCC\n",
       "3      2019-07-01 19:54:00+00:00                   7  OSCC\n",
       "4      2016-06-20 22:05:59+00:00                   6  ONCC\n",
       "...                          ...                 ...   ...\n",
       "154587 2020-03-26 21:59:59+00:00                   3  ONCC\n",
       "154588 2020-11-13 20:43:26+00:00                  11  RMCC\n",
       "154589 2020-07-02 21:07:46+00:00                   7  SWCC\n",
       "154590 2020-07-04 04:44:59+00:00                   7  NRCC\n",
       "154591 2020-11-18 17:46:41+00:00                  11  AICC\n",
       "\n",
       "[154592 rows x 3 columns]"
      ]
     },
     "execution_count": 20,
     "metadata": {},
     "output_type": "execute_result"
    }
   ],
   "source": [
    "#Explore relevent columns\n",
    "df[['FireDiscoveryDateTime', 'FireDiscoveryMonth', \"GACC\"]]"
   ]
  },
  {
   "cell_type": "code",
   "execution_count": 28,
   "metadata": {},
   "outputs": [
    {
     "data": {
      "text/html": [
       "<div>\n",
       "<style scoped>\n",
       "    .dataframe tbody tr th:only-of-type {\n",
       "        vertical-align: middle;\n",
       "    }\n",
       "\n",
       "    .dataframe tbody tr th {\n",
       "        vertical-align: top;\n",
       "    }\n",
       "\n",
       "    .dataframe thead th {\n",
       "        text-align: right;\n",
       "    }\n",
       "</style>\n",
       "<table border=\"1\" class=\"dataframe\">\n",
       "  <thead>\n",
       "    <tr style=\"text-align: right;\">\n",
       "      <th></th>\n",
       "      <th>GACCName</th>\n",
       "      <th>GACC</th>\n",
       "    </tr>\n",
       "  </thead>\n",
       "  <tbody>\n",
       "    <tr>\n",
       "      <th>0</th>\n",
       "      <td>Alaska</td>\n",
       "      <td>AICC</td>\n",
       "    </tr>\n",
       "    <tr>\n",
       "      <th>1</th>\n",
       "      <td>Eastern Area</td>\n",
       "      <td>EACC</td>\n",
       "    </tr>\n",
       "    <tr>\n",
       "      <th>2</th>\n",
       "      <td>Great Basin</td>\n",
       "      <td>GBCC</td>\n",
       "    </tr>\n",
       "    <tr>\n",
       "      <th>3</th>\n",
       "      <td>Northern California</td>\n",
       "      <td>ONCC</td>\n",
       "    </tr>\n",
       "    <tr>\n",
       "      <th>4</th>\n",
       "      <td>Northern Rockies</td>\n",
       "      <td>NRCC</td>\n",
       "    </tr>\n",
       "    <tr>\n",
       "      <th>5</th>\n",
       "      <td>Northwest</td>\n",
       "      <td>NWCC</td>\n",
       "    </tr>\n",
       "    <tr>\n",
       "      <th>6</th>\n",
       "      <td>Rocky Mountain</td>\n",
       "      <td>RMCC</td>\n",
       "    </tr>\n",
       "    <tr>\n",
       "      <th>7</th>\n",
       "      <td>Southern Area</td>\n",
       "      <td>SACC</td>\n",
       "    </tr>\n",
       "    <tr>\n",
       "      <th>8</th>\n",
       "      <td>Southern California</td>\n",
       "      <td>OSCC</td>\n",
       "    </tr>\n",
       "    <tr>\n",
       "      <th>9</th>\n",
       "      <td>Southwest</td>\n",
       "      <td>SWCC</td>\n",
       "    </tr>\n",
       "  </tbody>\n",
       "</table>\n",
       "</div>"
      ],
      "text/plain": [
       "              GACCName  GACC\n",
       "0               Alaska  AICC\n",
       "1         Eastern Area  EACC\n",
       "2          Great Basin  GBCC\n",
       "3  Northern California  ONCC\n",
       "4     Northern Rockies  NRCC\n",
       "5            Northwest  NWCC\n",
       "6       Rocky Mountain  RMCC\n",
       "7        Southern Area  SACC\n",
       "8  Southern California  OSCC\n",
       "9            Southwest  SWCC"
      ]
     },
     "execution_count": 28,
     "metadata": {},
     "output_type": "execute_result"
    }
   ],
   "source": [
    "#Load gacc names\n",
    "gacc_names = pd.read_csv('data/raw_data/gacc_names.csv')\n",
    "gacc_names"
   ]
  },
  {
   "cell_type": "code",
   "execution_count": 37,
   "metadata": {},
   "outputs": [],
   "source": [
    "#Group by month and gacc region and merge in names\n",
    "grouped_df = pd.DataFrame(df.groupby(['FireDiscoveryMonth', 'GACC'])['OBJECTID'].count()).reset_index()\n",
    "grouped_df.columns = ['month', 'GACC', 'number_fires']\n",
    "\n",
    "grouped_df = grouped_df.merge(gacc_names, on = 'GACC', how = 'left')\n",
    "grouped_df = grouped_df[~grouped_df['GACCName'].isna()]"
   ]
  },
  {
   "cell_type": "code",
   "execution_count": 40,
   "metadata": {},
   "outputs": [
    {
     "data": {
      "text/plain": [
       "array(['Eastern Area', 'Great Basin', 'Northern Rockies', 'Northwest',\n",
       "       'Northern California', 'Southern California', 'Rocky Mountain',\n",
       "       'Southern Area', 'Southwest', 'Alaska'], dtype=object)"
      ]
     },
     "execution_count": 40,
     "metadata": {},
     "output_type": "execute_result"
    }
   ],
   "source": [
    "#Extract for category list in index.html\n",
    "grouped_df['GACCName'].unique()"
   ]
  },
  {
   "cell_type": "code",
   "execution_count": 42,
   "metadata": {},
   "outputs": [
    {
     "data": {
      "text/plain": [
       "31980"
      ]
     },
     "execution_count": 42,
     "metadata": {},
     "output_type": "execute_result"
    }
   ],
   "source": [
    "#Extract for domain in index.html\n",
    "df.groupby('FireDiscoveryMonth')['OBJECTID'].count().max()"
   ]
  },
  {
   "cell_type": "code",
   "execution_count": 55,
   "metadata": {},
   "outputs": [],
   "source": [
    "#Reshape the dataset so it works for steamgraph\n",
    "reshaped_gacc_df = pd.DataFrame()\n",
    "for month in grouped_df.month.unique():\n",
    "    month_df = grouped_df[grouped_df['month'] == month]\n",
    "    row_append_dict = {}\n",
    "    for index, row in month_df.iterrows():\n",
    "        gacc = row['GACCName']\n",
    "        row_append_dict['month'] = row['month']\n",
    "        row_append_dict['{}'.format(gacc)] = row['number_fires']\n",
    "    reshaped_gacc_df = reshaped_gacc_df.append(pd.Series(row_append_dict), ignore_index = True)"
   ]
  },
  {
   "cell_type": "code",
   "execution_count": 60,
   "metadata": {},
   "outputs": [],
   "source": [
    "#Reorder columnns so month is first\n",
    "reshaped_gacc_df = reshaped_gacc_df[['month','Eastern Area', 'Great Basin', 'Northern California',\n",
    "       'Northern Rockies', 'Northwest', 'Rocky Mountain', 'Southern Area',\n",
    "       'Southern California', 'Southwest', 'Alaska']]"
   ]
  },
  {
   "cell_type": "code",
   "execution_count": 62,
   "metadata": {},
   "outputs": [],
   "source": [
    "#Export to csv\n",
    "reshaped_gacc_df.to_csv(\"data/processed_data/fires_by_gacc_and_month.csv\", index = False)"
   ]
  },
  {
   "cell_type": "code",
   "execution_count": null,
   "metadata": {},
   "outputs": [],
   "source": []
  }
 ],
 "metadata": {
  "kernelspec": {
   "display_name": "py36",
   "language": "python",
   "name": "py36"
  },
  "language_info": {
   "codemirror_mode": {
    "name": "ipython",
    "version": 3
   },
   "file_extension": ".py",
   "mimetype": "text/x-python",
   "name": "python",
   "nbconvert_exporter": "python",
   "pygments_lexer": "ipython3",
   "version": "3.6.8"
  }
 },
 "nbformat": 4,
 "nbformat_minor": 2
}
